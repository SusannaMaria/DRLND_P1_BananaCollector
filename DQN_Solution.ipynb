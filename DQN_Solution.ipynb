{
 "cells": [
  {
   "cell_type": "code",
   "execution_count": 1,
   "metadata": {},
   "outputs": [],
   "source": [
    "from unityagents import UnityEnvironment\n",
    "import os.path\n",
    "import numpy as np\n",
    "import pandas as pd\n",
    "from collections import deque\n",
    "import torch\n",
    "from dqn_agent import Agent\n",
    "from classes.utils import helper\n",
    "from mpl_toolkits.mplot3d import Axes3D  # noqa: F401 unused import\n",
    "import matplotlib.pyplot as plt\n",
    "from matplotlib import cm\n",
    "from matplotlib.ticker import LinearLocator, FormatStrFormatter\n",
    "from secondcounter import SecondCounter\n",
    "%matplotlib inline"
   ]
  },
  {
   "cell_type": "code",
   "execution_count": 2,
   "metadata": {},
   "outputs": [
    {
     "name": "stderr",
     "output_type": "stream",
     "text": [
      "INFO:unityagents:\n",
      "'Academy' started successfully!\n",
      "Unity Academy name: Academy\n",
      "        Number of Brains: 1\n",
      "        Number of External Brains : 1\n",
      "        Lesson number : 0\n",
      "        Reset Parameters :\n",
      "\t\t\n",
      "Unity brain name: BananaBrain\n",
      "        Number of Visual Observations (per agent): 0\n",
      "        Vector Observation space type: continuous\n",
      "        Vector Observation space size (per agent): 37\n",
      "        Number of stacked Vector Observation: 1\n",
      "        Vector Action space type: discrete\n",
      "        Vector Action space size (per agent): 4\n",
      "        Vector Action descriptions: , , , \n"
     ]
    }
   ],
   "source": [
    "env = UnityEnvironment(\n",
    "    file_name=\"/Susanna/udacity/Banana_Windows_x86_64/Banana.exe\")"
   ]
  },
  {
   "cell_type": "code",
   "execution_count": 3,
   "metadata": {},
   "outputs": [],
   "source": [
    "# get the default brain\n",
    "brain_name = env.brain_names[0]\n",
    "brain = env.brains[brain_name]"
   ]
  },
  {
   "cell_type": "code",
   "execution_count": 4,
   "metadata": {},
   "outputs": [],
   "source": [
    "# reset the environment\n",
    "env_info = env.reset(train_mode=True)[brain_name]\n",
    "action_size = brain.vector_action_space_size\n",
    "state = env_info.vector_observations[0]\n",
    "state_size = len(state)"
   ]
  },
  {
   "cell_type": "code",
   "execution_count": 5,
   "metadata": {},
   "outputs": [],
   "source": [
    "def env_show_info():\n",
    "    # number of agents in the environment\n",
    "    print('Number of agents:', len(env_info.agents))\n",
    "    # number of actions\n",
    "    print('Number of actions:', action_size)\n",
    "    # examine the state space\n",
    "    print('States look like:', state)\n",
    "    print('States have length:', state_size)    "
   ]
  },
  {
   "cell_type": "code",
   "execution_count": 17,
   "metadata": {},
   "outputs": [],
   "source": [
    "def dqn_train(state_size: int,\n",
    "              action_size: int,\n",
    "              n_episodes: int = 2000,\n",
    "              max_t: int = 400,\n",
    "              eps_start: float = 1.0,\n",
    "              eps_end: float = 0.001,\n",
    "              eps_decay: float = 0.995,\n",
    "              seed: int = 0):\n",
    "    \"\"\"Deep Q-Learning train function.\n",
    "\n",
    "    Params\n",
    "    ======\n",
    "        n_episodes (int):   maximum number of training episodes\n",
    "        max_t (int):        maximum number of timesteps per episode\n",
    "        eps_start (float):  starting value of epsilon, for epsilon-greedy action selection\n",
    "        eps_end (float):    minimum value of epsilon\n",
    "        eps_decay (float):  multiplicative factor (per episode) for decreasing epsilon\n",
    "    \"\"\"\n",
    "    agent = Agent(state_size=state_size, action_size=action_size, seed=0)\n",
    "    # list containing scores from each episode\n",
    "    scores = []                                                                 \n",
    "    # last 100 scores\n",
    "    scores_window = deque(maxlen=10)                                           \n",
    "    # initialize epsilon\n",
    "    eps = eps_start\n",
    "    \n",
    "    # create the counter instance\n",
    "    count = SecondCounter()\n",
    "    count.start()\n",
    "    for i_episode in range(1, n_episodes+1):\n",
    "        # reset the environment\n",
    "        env_info = env.reset(train_mode=True)[brain_name]                       \n",
    "        # get the current state\n",
    "        state = env_info.vector_observations[0]                                 \n",
    "        # initialize score            \n",
    "        score = 0                                                               \n",
    "        for t in range(max_t):\n",
    "            # select an action\n",
    "            action = agent.act(np.array(state),eps)                             \n",
    "            # cast action to int\n",
    "            action = action.astype(int)\n",
    "            # send the action to the environment\n",
    "            env_info = env.step(action)[brain_name]                             \n",
    "            # get the next state\n",
    "            next_state = env_info.vector_observations[0]                        \n",
    "            # get the reward\n",
    "            reward = env_info.rewards[0]                                        \n",
    "            # see if episode has finished\n",
    "            done = env_info.local_done[0]                                       \n",
    "            # send update step to agent\n",
    "            agent.step(state,action,reward,next_state,done)                     \n",
    "            # update the score\n",
    "            score += reward                                                     \n",
    "            # roll over the state to next time step\n",
    "            state = next_state                                                  \n",
    "            # exit loop if episode finished\n",
    "            if done:                                                            \n",
    "                break            \n",
    "            \n",
    "        # save score for 100 most recent scores\n",
    "        scores_window.append(score)                                             \n",
    "        # save score for episodes\n",
    "        scores.append(score)                                                    \n",
    "        eps = max(eps_end, eps_decay*eps) # decrease epsilon\n",
    "        # print score every 10 episodes\n",
    "        if i_episode % 10== 0:                                                  \n",
    "            print('\\rEpisode {}\\tAverage Score of last 10 episodes: {:.2f}'.format(i_episode, np.mean(scores_window)), end = '')\n",
    "        # save network every 100 episodes\n",
    "        if i_episode % 100 == 0:                                                \n",
    "             torch.save(agent.qnetwork_local.state_dict(), 'dqn_checkpoints/dqn_checkpoint_{:06d}.pth'.format(i_episode))       \n",
    "    \n",
    "    seconds = count.finish()\n",
    "    print('\\nTraining finished with {} episodes in {:.2f} seconds'.format(n_episodes, seconds))\n",
    "    torch.save(agent.qnetwork_local.state_dict(), 'dqn_checkpoints/dqn_checkpoint_{:06d}.pth'.format(n_episodes))\n",
    "    return scores"
   ]
  },
  {
   "cell_type": "code",
   "execution_count": 18,
   "metadata": {},
   "outputs": [],
   "source": [
    "def dqn_test(agent):\n",
    "    \"\"\"Deep Q-Learning test function.\n",
    "\n",
    "    Params\n",
    "    ======\n",
    "        agent:   DQN Agent with loaded network for testing\n",
    "    \"\"\"    \n",
    "    # reset the environment\n",
    "    env_info = env.reset(train_mode=True)[brain_name]                            \n",
    "    # get the current state\n",
    "    state = env_info.vector_observations[0]                                      \n",
    "    # initialize score\n",
    "    score = 0                                                                     \n",
    "    try:\n",
    "        # run until done\n",
    "        while (1):                                                               \n",
    "            # select an action\n",
    "            action = agent.act(np.array(state), 0)                               \n",
    "            # cast action to int\n",
    "            action = action.astype(int)\n",
    "            # send the action to the environment\n",
    "            env_info = env.step(action)[brain_name]\n",
    "            # get the next state\n",
    "            state = env_info.vector_observations[0] \n",
    "            # get the reward\n",
    "            reward = env_info.rewards[0]   \n",
    "            # see if episode has finished\n",
    "            done = env_info.local_done[0]\n",
    "            # update the score\n",
    "            score += reward                                                      \n",
    "            if done:\n",
    "                return score\n",
    "    except Exception as e:\n",
    "        print(\"exception:\", e)\n",
    "        return score"
   ]
  },
  {
   "cell_type": "code",
   "execution_count": 28,
   "metadata": {},
   "outputs": [],
   "source": [
    "def dqn_analytic_of_scores(state_size: int,\n",
    "                           action_size: int,\n",
    "                           checkpoint_min: int = 100,\n",
    "                           checkpoint_max: int = 2100,\n",
    "                           checkpoint_step: int = 100,\n",
    "                           n_episode_run: int = 100,\n",
    "                           goal_score: float = 13.0,\n",
    "                           seed: int = 0):\n",
    "    \"\"\"Analytic for Deep Q-Learning agent.\n",
    "\n",
    "    Params\n",
    "    ======\n",
    "        state_size (int):       size of state space\n",
    "        action_size (int):      action numbers\n",
    "        checkpoint_min (int):   start of checkpoint for analytics\n",
    "        checkpoint_max (int):   end of checkpoint for analytics\n",
    "        checkpoint_step (int):  steps between checkpoint        \n",
    "        n_episode_run (int):    how many episodes for each checkpoints are executed\n",
    "        goal_score (float):     what score has to be achieved (only used for ploting)\n",
    "        seed (int):             seed for randomizing the agent\n",
    "    \"\"\"    \n",
    "    # initialize DQN Agent\n",
    "    agent = Agent(state_size=state_size, action_size=action_size, seed=seed)    \n",
    "    # range of checkpoints\n",
    "    checkpoints = np.arange(checkpoint_min, \n",
    "                            checkpoint_max+checkpoint_step,\n",
    "                            checkpoint_step)                                    \n",
    "    # define X-Axis \n",
    "    X = np.arange(0, n_episode_run, 1)\n",
    "    # create mesh grid for 3d plot\n",
    "    X, Y = np.meshgrid(X, checkpoints)\n",
    "    # create 2D-array for scores\n",
    "    score_array = np.zeros(X.shape)                                             \n",
    "\n",
    "    n_checkpoint_count = 0\n",
    "\n",
    "    # create the counter instance\n",
    "    count = SecondCounter()\n",
    "    count.start()\n",
    "    \n",
    "    print(\"Starting analysing of dqn network\")\n",
    "    \n",
    "    # iterate over checkpoints\n",
    "    for n_checkpoint in checkpoints:                                            \n",
    "        checkpoint_file = 'dqn_checkpoints/dqn_checkpoint_{:06d}.pth'.format(n_checkpoint)\n",
    "        # is pretrained model for checkpoint available ?\n",
    "        if not os.path.isfile(checkpoint_file):                             \n",
    "            print(\"Checkpoint file not found: {}\".format(checkpoint_file))\n",
    "            continue\n",
    "        # load pretrained model\n",
    "        agent.qnetwork_local.load_state_dict(torch.load(checkpoint_file))       \n",
    "        \n",
    "        # prepare scores array for all episodes\n",
    "        scores = np.arange(0, n_episode_run, 1)                                 \n",
    "        for n_episode in range(0, n_episode_run):\n",
    "            # test agent for one episode\n",
    "            score = dqn_test(agent)\n",
    "            # store result in array\n",
    "            scores[n_episode] = score                                           \n",
    "        \n",
    "        # sort array in descending order\n",
    "        scores = np.sort(scores)[::-1]                                          \n",
    "        # maybe it's allowed to remove the best and worst 2 elements\n",
    "        for n_episode in range(0, n_episode_run):\n",
    "            score_array[n_checkpoint_count][n_episode] = scores[n_episode]      # Update 2D-array \n",
    "\n",
    "        n_checkpoint_count += 1\n",
    "        print(\"Checkpoint: {} - mean score over {} episodes: {}\".format(\n",
    "            n_checkpoint, n_episode_run, np.mean(scores)))\n",
    "    \n",
    "    seconds = count.finish()\n",
    "    print('Analytics finished with {} episodes in {:.2f} seconds'.format(n_episode_run, seconds))\n",
    "\n",
    "    plot_3dsurface(X, Y, score_array)\n",
    "    plot_minmax(checkpoints, score_array, checkpoint_min, checkpoint_max, goal_score)"
   ]
  },
  {
   "cell_type": "code",
   "execution_count": 23,
   "metadata": {},
   "outputs": [],
   "source": [
    "def plot_3dsurface(X, Y, score_array):\n",
    "    \"\"\"Print 3D surface plot of DQN Agent analytics\n",
    "\n",
    "    Params\n",
    "    ======\n",
    "        X (np.array):           Meshgrid X Axis\n",
    "        Y (np.array):           Meshgrid X Axis\n",
    "        score_array (np.array)  scores of all episodes of all checkpoints\n",
    "    \"\"\"     \n",
    "    fig = plt.figure()\n",
    "    ax = fig.gca(projection='3d')\n",
    "    # Plot the surface.\n",
    "    surf = ax.plot_surface(X, Y, score_array, cmap=cm.coolwarm,\n",
    "                           linewidth=0, antialiased=False)\n",
    "\n",
    "    # Customize the z axis.\n",
    "    ax.set_zlim(-2, 22)\n",
    "    ax.zaxis.set_major_locator(LinearLocator(10))\n",
    "    ax.zaxis.set_major_formatter(FormatStrFormatter('%.02f'))\n",
    "\n",
    "    # Add a color bar which maps values to colors.\n",
    "    fig.colorbar(surf, shrink=0.5, aspect=5)\n",
    "\n",
    "    plt.show()\n",
    "\n",
    "\n",
    "def plot_minmax(checkpoints, \n",
    "                score_array, \n",
    "                checkpoint_min: int = 100, \n",
    "                checkpoint_max: int = 2100, \n",
    "                goal_score: float = 13):\n",
    "    \"\"\"Print min max plot of DQN Agent analytics\n",
    "\n",
    "    Params\n",
    "    ======\n",
    "        checkpoints (np.array):           Array of checkpoints\n",
    "        checkpoint_min (int):             Minimum Checkpoint for plot\n",
    "        checkpoint_max (int):             Maximum Checkpoint for plot\n",
    "        goal_score (float):               Goal of score for DQN Agent\n",
    "    \"\"\"   \n",
    "    \n",
    "    df = pd.DataFrame(columns=['checkpoint', 'min', 'max', 'mean'])\n",
    "\n",
    "    row = 0\n",
    "    for i in checkpoints:\n",
    "        for j in score_array[row]:\n",
    "            df.loc[row] = [i] + list([np.min(score_array[row]),\n",
    "                                                       np.max(score_array[row]),\n",
    "                                                       np.mean(score_array[row])])\n",
    "        row += 1\n",
    "    ax  = df.plot(x='checkpoint', y='mean', c='white')\n",
    "    plt.fill_between(x='checkpoint',y1='min',y2='max', data=df)\n",
    "    x_coordinates = [checkpoint_min, checkpoint_max]\n",
    "    y_coordinates = [13, 13]\n",
    "    plt.plot(x_coordinates, y_coordinates, color='red')    \n",
    "    plt.show()"
   ]
  },
  {
   "cell_type": "code",
   "execution_count": 24,
   "metadata": {},
   "outputs": [
    {
     "name": "stdout",
     "output_type": "stream",
     "text": [
      "Episode 200\tAverage Score of last 10 episodes: 5.70\n",
      "Train finsihed with 200 episodes in 99.85 seconds\n"
     ]
    }
   ],
   "source": [
    "# Test of notebook\n",
    "# Train 200 episodes\n",
    "train_scores = dqn_train(state_size, action_size,200)"
   ]
  },
  {
   "cell_type": "code",
   "execution_count": 29,
   "metadata": {},
   "outputs": [
    {
     "name": "stdout",
     "output_type": "stream",
     "text": [
      "Starting analysing of dqn network\n",
      "Checkpoint: 100 - mean score over 10 episodes: 4.6\n",
      "Checkpoint: 200 - mean score over 10 episodes: 5.3\n",
      "Analytics finished with 10 episodes in 5.71 seconds\n"
     ]
    },
    {
     "data": {
      "image/png": "[encoded data removed]",
      "text/plain": [
       "<Figure size 432x288 with 2 Axes>"
      ]
     },
     "metadata": {
      "needs_background": "light"
     },
     "output_type": "display_data"
    },
    {
     "data": {
      "image/png": "[encoded data removed]",
      "text/plain": [
       "<Figure size 432x288 with 1 Axes>"
      ]
     },
     "metadata": {
      "needs_background": "light"
     },
     "output_type": "display_data"
    }
   ],
   "source": [
    "# Analysis until 200 Checkpoint\n",
    "dqn_analytic_of_scores(state_size, action_size, 100, 200, 100, 10, 13, 333)"
   ]
  },
  {
   "cell_type": "code",
   "execution_count": null,
   "metadata": {},
   "outputs": [
    {
     "name": "stdout",
     "output_type": "stream",
     "text": [
      "\r",
      "Episode 10\tAverage Score of last 10 episodes: -0.40"
     ]
    }
   ],
   "source": [
    "# Train of DQN for 2100 episodes\n",
    "train_scores = dqn_train(state_size, action_size,2100)"
   ]
  },
  {
   "cell_type": "code",
   "execution_count": null,
   "metadata": {},
   "outputs": [],
   "source": [
    "# Analyse until 2100 Checkpoint\n",
    "dqn_analytic_of_scores(state_size, action_size, 100, 2100, 100, 10, 13, 333)"
   ]
  }
 ],
 "metadata": {
  "kernelspec": {
   "display_name": "Python 3",
   "language": "python",
   "name": "python3"
  },
  "language_info": {
   "codemirror_mode": {
    "name": "ipython",
    "version": 3
   },
   "file_extension": ".py",
   "mimetype": "text/x-python",
   "name": "python",
   "nbconvert_exporter": "python",
   "pygments_lexer": "ipython3",
   "version": "3.6.10"
  }
 },
 "nbformat": 4,
 "nbformat_minor": 4
}
